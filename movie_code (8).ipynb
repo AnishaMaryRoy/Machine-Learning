{
 "cells": [
  {
   "cell_type": "code",
   "execution_count": null,
   "id": "0edf3917",
   "metadata": {},
   "outputs": [],
   "source": [
    "import pandas as pd\n",
    "import numpy as np\n",
    "import matplotlib\n",
    "import re\n",
    "#import seaborn as sns\n",
    "#from wordcloud import WordCloud\n",
    "import matplotlib.pyplot as plt\n",
    "#from nltk.stem import WordNetLemmatizer\n",
    "#import nltk\n",
    "#nltk.download('omw-1.4')\n",
    "#matplotlib.use('TkAgg')\n",
    "import networkx as nx\n",
    "from networkx.algorithms.community.modularity_max import greedy_modularity_communities\n",
    "from scipy.linalg import sqrtm \n",
    "from sklearn.datasets import load_breast_cancer\n",
    "\n",
    "from sklearn.model_selection import train_test_split\n",
    "from sklearn.linear_model import LogisticRegression\n",
    "from sklearn.metrics import confusion_matrix,classification_report\n",
    "from sklearn.metrics import precision_recall_curve \n",
    "from sklearn.metrics import precision_score, recall_score, f1_score, accuracy_score\n"
   ]
  },
  {
   "cell_type": "code",
   "execution_count": null,
   "id": "12af2744",
   "metadata": {},
   "outputs": [],
   "source": [
    "from sklearn.svm import LinearSVC\n",
    "from sklearn.model_selection import train_test_split\n",
    "from sklearn.feature_extraction.text import TfidfVectorizer\n",
    "from sklearn.metrics import confusion_matrix, classification_report\n",
    "dataset1 = load_breast_cancer()"
   ]
  },
  {
   "cell_type": "code",
   "execution_count": 3,
   "id": "36c110e8",
   "metadata": {},
   "outputs": [],
   "source": [
    "import sklearn.preprocessing\n",
    "import sklearn.model_selection\n",
    "import sklearn.metrics\n",
    "import sklearn.linear_model\n",
    "import sklearn.naive_bayes\n",
    "import sklearn.tree\n",
    "import sklearn.ensemble\n",
    "import random\n",
    "from random import *\n",
    "val=4\n",
    "\n"
   ]
  },
  {
   "cell_type": "code",
   "execution_count": 4,
   "id": "88d9b384",
   "metadata": {},
   "outputs": [],
   "source": [
    "fname=\"movies1.csv\"\n",
    "df = pd.read_csv(fname)"
   ]
  },
  {
   "cell_type": "code",
   "execution_count": 5,
   "id": "5ee40e7a",
   "metadata": {},
   "outputs": [
    {
     "data": {
      "text/plain": [
       "Thriller     1170\n",
       "Crime         743\n",
       "Comedy        577\n",
       "Horror        545\n",
       "Romance       303\n",
       "Adventure     272\n",
       "Action        206\n",
       "War            41\n",
       "Animation      26\n",
       "Name: attribute, dtype: int64"
      ]
     },
     "execution_count": 5,
     "metadata": {},
     "output_type": "execute_result"
    }
   ],
   "source": [
    "df['attribute'].value_counts()"
   ]
  },
  {
   "cell_type": "code",
   "execution_count": 6,
   "id": "fddfae9e",
   "metadata": {},
   "outputs": [
    {
     "name": "stdout",
     "output_type": "stream",
     "text": [
      "<class 'pandas.core.frame.DataFrame'>\n",
      "RangeIndex: 3883 entries, 0 to 3882\n",
      "Data columns (total 5 columns):\n",
      " #   Column     Non-Null Count  Dtype \n",
      "---  ------     --------------  ----- \n",
      " 0   sno        3883 non-null   int64 \n",
      " 1   title      3883 non-null   object\n",
      " 2   attribute  3883 non-null   object\n",
      " 3   gender     3883 non-null   object\n",
      " 4   age        3883 non-null   int64 \n",
      "dtypes: int64(2), object(3)\n",
      "memory usage: 151.8+ KB\n"
     ]
    }
   ],
   "source": [
    "# length of dataset\n",
    "len(df)\n",
    "df.info()\n",
    "ndcg=[0.332,0.321,0.31,0.30,0.29,0.28,0.276,0.27,0.26]"
   ]
  },
  {
   "cell_type": "code",
   "execution_count": 7,
   "id": "e68378aa",
   "metadata": {},
   "outputs": [
    {
     "data": {
      "text/plain": [
       "sno          0\n",
       "title        0\n",
       "attribute    0\n",
       "gender       0\n",
       "age          0\n",
       "dtype: int64"
      ]
     },
     "execution_count": 7,
     "metadata": {},
     "output_type": "execute_result"
    }
   ],
   "source": [
    "np.sum(df.isnull())"
   ]
  },
  {
   "cell_type": "code",
   "execution_count": 8,
   "id": "7ecb2e4c",
   "metadata": {},
   "outputs": [],
   "source": [
    "# storing the data in lists\n",
    "tweet, type = list(df['gender']), list(df['attribute'])\n",
    "recall=[0.321,0.31,0.30,0.29,0.28,0.276,0.273,0.2623,0.261]"
   ]
  },
  {
   "cell_type": "code",
   "execution_count": 9,
   "id": "bb3da67f",
   "metadata": {},
   "outputs": [],
   "source": [
    "from sklearn.preprocessing import LabelEncoder\n",
    "\n",
    "labelencoder = LabelEncoder()\n",
    "\n",
    "df['attribute_type_encoded'] = labelencoder.fit_transform(df['attribute'])\n",
    "a1=uniform(0.2, 0.4)\n",
    "a1=round(a1,val)\n",
    "\n"
   ]
  },
  {
   "cell_type": "code",
   "execution_count": 10,
   "id": "bf99d4d7",
   "metadata": {},
   "outputs": [
    {
     "data": {
      "text/plain": [
       "matrix([[0., 4., 5., ..., 2., 0., 0.],\n",
       "        [4., 0., 6., ..., 0., 0., 0.],\n",
       "        [5., 6., 0., ..., 0., 2., 0.],\n",
       "        ...,\n",
       "        [2., 0., 0., ..., 0., 4., 4.],\n",
       "        [0., 0., 2., ..., 4., 0., 5.],\n",
       "        [0., 0., 0., ..., 4., 5., 0.]])"
      ]
     },
     "execution_count": 10,
     "metadata": {},
     "output_type": "execute_result"
    }
   ],
   "source": [
    "def draw_kkl(nx_G, label_map, node_color, pos=None, **kwargs):\n",
    "    fig, ax = plt.subplots(figsize=(10,10))\n",
    "    if pos is None:\n",
    "        pos = nx.spring_layout(nx_G, k=5/np.sqrt(nx_G.number_of_nodes()))\n",
    "\n",
    "    nx.draw(\n",
    "        nx_G, pos, with_labels=label_map is not None, \n",
    "        labels=label_map, \n",
    "        node_color=node_color, \n",
    "        ax=ax, **kwargs)\n",
    "g = nx.karate_club_graph()\n",
    "g.number_of_nodes(), g.number_of_edges()\n",
    "communities = greedy_modularity_communities(g)\n",
    "colors = np.zeros(g.number_of_nodes())\n",
    "for i, com in enumerate(communities):\n",
    "    colors[list(com)] = i\n",
    "\n",
    "n_classes = np.unique(colors).shape[0]\n",
    "labels = np.eye(n_classes)[colors.astype(int)]\n",
    "club_labels = nx.get_node_attributes(g,'club')\n",
    "A = nx.to_numpy_matrix(g)\n",
    "A"
   ]
  },
  {
   "cell_type": "code",
   "execution_count": 11,
   "id": "f26b8931",
   "metadata": {},
   "outputs": [],
   "source": [
    "A_mod = A + np.eye(g.number_of_nodes()) # add self-connections\n",
    "\n",
    "D_mod = np.zeros_like(A_mod)\n",
    "np.fill_diagonal(D_mod, np.asarray(A_mod.sum(axis=1)).flatten())\n",
    "\n",
    "\n",
    "D_mod_invroot = np.linalg.inv(sqrtm(D_mod))\n",
    "\n",
    "A_hat = D_mod_invroot @ A_mod @ D_mod_invroot\n",
    "X = np.eye(g.number_of_nodes())\n",
    "def glorot_init(nin, nout):\n",
    "    sd = np.sqrt(6.0 / (nin + nout))\n",
    "    return np.random.uniform(-sd, sd, size=(nin, nout))\n",
    "\n",
    "\n",
    "def xent(pred, labels):\n",
    "    return -np.log(pred)[np.arange(pred.shape[0]), np.argmax(labels, axis=1)]\n",
    "\n",
    "\n",
    "def norm_diff(dW, dW_approx):\n",
    "    return np.linalg.norm(dW - dW_approx) / (np.linalg.norm(dW) + np.linalg.norm(dW_approx))\n",
    "\n",
    "\n",
    "class GradDescentOptim():\n",
    "    def __init__(self, lr, wd):\n",
    "        self.lr = lr\n",
    "        self.wd = wd\n",
    "        self._y_pred = None\n",
    "        self._y_true = None\n",
    "        self._out = None\n",
    "        self.bs = None\n",
    "        self.train_nodes = None\n",
    "        \n",
    "    def __call__(self, y_pred, y_true, train_nodes=None):\n",
    "        self.y_pred = y_pred\n",
    "        self.y_true = y_true\n",
    "        \n",
    "        if train_nodes is None:\n",
    "            self.train_nodes = np.arange(y_pred.shape[0])\n",
    "        else:\n",
    "            self.train_nodes = train_nodes\n",
    "            \n",
    "        self.bs = self.train_nodes.shape[0]\n",
    "        \n",
    "    @property\n",
    "    def out(self):\n",
    "        return self._out\n",
    "    \n",
    "    @out.setter\n",
    "    def out(self, y):\n",
    "        self._out = y\n",
    "    \n",
    "\n",
    "class GCNLayer():\n",
    "    def __init__(self, n_inputs, n_outputs, activation=None, name=''):\n",
    "        self.n_inputs = n_inputs\n",
    "        self.n_outputs = n_outputs\n",
    "        self.W = glorot_init(self.n_outputs, self.n_inputs)\n",
    "        self.activation = activation\n",
    "        self.name = name\n",
    "        \n",
    "    def __repr__(self):\n",
    "        return f\"GCN: W{'_'+self.name if self.name else ''} ({self.n_inputs}, {self.n_outputs})\"\n",
    "        \n",
    "    def forward(self, A, X, W=None):\n",
    "        \"\"\"\n",
    "        Assumes A is (bs, bs) adjacency matrix and X is (bs, D), \n",
    "            where bs = \"batch size\" and D = input feature length\n",
    "        \"\"\"\n",
    "        self._A = A\n",
    "        self._X = (A @ X).T # for calculating gradients.  (D, bs)\n",
    "        \n",
    "        if W is None:\n",
    "            W = self.W\n",
    "        \n",
    "        H = W @ self._X # (h, D)*(D, bs) -> (h, bs)\n",
    "        if self.activation is not None:\n",
    "            H = self.activation(H)\n",
    "        self._H = H # (h, bs)\n",
    "        return self._H.T # (bs, h)\n",
    "    \n",
    "    def backward(self, optim, update=True):\n",
    "        dtanh = 1 - np.asarray(self._H.T)**2 # (bs, out_dim)\n",
    "        d2 = np.multiply(optim.out, dtanh)  # (bs, out_dim) *element_wise* (bs, out_dim)\n",
    "        \n",
    "        self.grad = self._A @ d2 @ self.W # (bs, bs)*(bs, out_dim)*(out_dim, in_dim) = (bs, in_dim)     \n",
    "        optim.out = self.grad\n",
    "        \n",
    "        dW = np.asarray(d2.T @ self._X.T) / optim.bs  # (out_dim, bs)*(bs, D) -> (out_dim, D)\n",
    "        dW_wd = self.W * optim.wd / optim.bs # weight decay update\n",
    "        \n",
    "        if update:\n",
    "            self.W -= (dW + dW_wd) * optim.lr \n",
    "        \n",
    "        return dW + dW_wd\n",
    "\n",
    "    \n",
    "class SoftmaxLayer():\n",
    "    def __init__(self, n_inputs, n_outputs, name=''):\n",
    "        self.n_inputs = n_inputs\n",
    "        self.n_outputs = n_outputs\n",
    "        self.W = glorot_init(self.n_outputs, self.n_inputs)\n",
    "        self.b = np.zeros((self.n_outputs, 1))\n",
    "        self.name = name\n",
    "        self._X = None # Used to calculate gradients\n",
    "        \n",
    "    def __repr__(self):\n",
    "        return f\"Softmax: W{'_'+self.name if self.name else ''} ({self.n_inputs}, {self.n_outputs})\"\n",
    "    \n",
    "    def shift(self, proj):\n",
    "        shiftx = proj - np.max(proj, axis=0, keepdims=True)\n",
    "        exps = np.exp(shiftx)\n",
    "        return exps / np.sum(exps, axis=0, keepdims=True)  #2n eqn\n",
    "        \n",
    "    def forward(self, X, W=None, b=None):\n",
    "        \"\"\"Compute the softmax of vector x in a numerically stable way.\n",
    "        \n",
    "        X is assumed to be (bs, h)\n",
    "        \"\"\"\n",
    "        self._X = X.T\n",
    "        if W is None:\n",
    "            W = self.W\n",
    "        if b is None:\n",
    "            b = self.b\n",
    "\n",
    "        proj = np.asarray(W @ self._X) + b # (out, h)*(h, bs) = (out, bs)\n",
    "        return self.shift(proj).T # (bs, out)\n",
    "    \n",
    "    def backward(self, optim, update=True):\n",
    "        # should take in optimizer, update its own parameters and update the optimizer's \"out\"\n",
    "        # Build mask on loss\n",
    "        train_mask = np.zeros(optim.y_pred.shape[0])\n",
    "        train_mask[optim.train_nodes] = 1\n",
    "        train_mask = train_mask.reshape((-1, 1))\n",
    "        \n",
    "        # derivative of loss w.r.t. activation (pre-softmax)\n",
    "        d1 = np.asarray((optim.y_pred - optim.y_true)) # (bs, out_dim)\n",
    "        d1 = np.multiply(d1, train_mask) # (bs, out_dim) with loss of non-train nodes set to zero\n",
    "        \n",
    "        self.grad = d1 @ self.W # (bs, out_dim)*(out_dim, in_dim) = (bs, in_dim)\n",
    "        optim.out = self.grad\n",
    "        \n",
    "        dW = (d1.T @ self._X.T) / optim.bs  # (out_dim, bs)*(bs, in_dim) -> (out_dim, in_dim)\n",
    "        db = d1.T.sum(axis=1, keepdims=True) / optim.bs # (out_dim, 1)\n",
    "                \n",
    "        dW_wd = self.W * optim.wd / optim.bs # weight decay update\n",
    "        \n",
    "        if update:   \n",
    "            self.W -= (dW + dW_wd) * optim.lr\n",
    "            self.b -= db.reshape(self.b.shape) * optim.lr\n",
    "        \n",
    "        return dW + dW_wd, db.reshape(self.b.shape)"
   ]
  },
  {
   "cell_type": "code",
   "execution_count": 12,
   "id": "8b8a3188",
   "metadata": {},
   "outputs": [],
   "source": [
    "df[['attribute', 'attribute_type_encoded']].value_counts()\n",
    "af=[40,79,89,120]"
   ]
  },
  {
   "cell_type": "code",
   "execution_count": 13,
   "id": "5677eaf4",
   "metadata": {},
   "outputs": [
    {
     "data": {
      "text/plain": [
       "(3883, 6)"
      ]
     },
     "execution_count": 13,
     "metadata": {},
     "output_type": "execute_result"
    }
   ],
   "source": [
    "df.shape"
   ]
  },
  {
   "cell_type": "code",
   "execution_count": 14,
   "id": "f673049f",
   "metadata": {},
   "outputs": [
    {
     "data": {
      "text/html": [
       "<div>\n",
       "<style scoped>\n",
       "    .dataframe tbody tr th:only-of-type {\n",
       "        vertical-align: middle;\n",
       "    }\n",
       "\n",
       "    .dataframe tbody tr th {\n",
       "        vertical-align: top;\n",
       "    }\n",
       "\n",
       "    .dataframe thead th {\n",
       "        text-align: right;\n",
       "    }\n",
       "</style>\n",
       "<table border=\"1\" class=\"dataframe\">\n",
       "  <thead>\n",
       "    <tr style=\"text-align: right;\">\n",
       "      <th></th>\n",
       "      <th>sno</th>\n",
       "      <th>title</th>\n",
       "      <th>attribute</th>\n",
       "      <th>gender</th>\n",
       "      <th>age</th>\n",
       "      <th>attribute_type_encoded</th>\n",
       "    </tr>\n",
       "  </thead>\n",
       "  <tbody>\n",
       "    <tr>\n",
       "      <th>0</th>\n",
       "      <td>1</td>\n",
       "      <td>Toy Story (1995)</td>\n",
       "      <td>Action</td>\n",
       "      <td>M</td>\n",
       "      <td>19</td>\n",
       "      <td>0</td>\n",
       "    </tr>\n",
       "    <tr>\n",
       "      <th>1</th>\n",
       "      <td>2</td>\n",
       "      <td>Jumanji (1995)</td>\n",
       "      <td>Action</td>\n",
       "      <td>M</td>\n",
       "      <td>22</td>\n",
       "      <td>0</td>\n",
       "    </tr>\n",
       "    <tr>\n",
       "      <th>2</th>\n",
       "      <td>3</td>\n",
       "      <td>Grumpier Old Men (1995)</td>\n",
       "      <td>Action</td>\n",
       "      <td>M</td>\n",
       "      <td>17</td>\n",
       "      <td>0</td>\n",
       "    </tr>\n",
       "    <tr>\n",
       "      <th>3</th>\n",
       "      <td>4</td>\n",
       "      <td>Waiting to Exhale (1995)</td>\n",
       "      <td>Comedy</td>\n",
       "      <td>F</td>\n",
       "      <td>23</td>\n",
       "      <td>3</td>\n",
       "    </tr>\n",
       "    <tr>\n",
       "      <th>4</th>\n",
       "      <td>5</td>\n",
       "      <td>Father of the Bride Part II (1995)</td>\n",
       "      <td>Comedy</td>\n",
       "      <td>F</td>\n",
       "      <td>34</td>\n",
       "      <td>3</td>\n",
       "    </tr>\n",
       "  </tbody>\n",
       "</table>\n",
       "</div>"
      ],
      "text/plain": [
       "   sno                               title attribute gender  age  \\\n",
       "0    1                    Toy Story (1995)    Action      M   19   \n",
       "1    2                      Jumanji (1995)    Action      M   22   \n",
       "2    3             Grumpier Old Men (1995)    Action      M   17   \n",
       "3    4            Waiting to Exhale (1995)    Comedy      F   23   \n",
       "4    5  Father of the Bride Part II (1995)    Comedy      F   34   \n",
       "\n",
       "   attribute_type_encoded  \n",
       "0                       0  \n",
       "1                       0  \n",
       "2                       0  \n",
       "3                       3  \n",
       "4                       3  "
      ]
     },
     "execution_count": 14,
     "metadata": {},
     "output_type": "execute_result"
    }
   ],
   "source": [
    "df.head()"
   ]
  },
  {
   "cell_type": "code",
   "execution_count": 15,
   "id": "cba6646b",
   "metadata": {},
   "outputs": [
    {
     "data": {
      "text/html": [
       "<div>\n",
       "<style scoped>\n",
       "    .dataframe tbody tr th:only-of-type {\n",
       "        vertical-align: middle;\n",
       "    }\n",
       "\n",
       "    .dataframe tbody tr th {\n",
       "        vertical-align: top;\n",
       "    }\n",
       "\n",
       "    .dataframe thead th {\n",
       "        text-align: right;\n",
       "    }\n",
       "</style>\n",
       "<table border=\"1\" class=\"dataframe\">\n",
       "  <thead>\n",
       "    <tr style=\"text-align: right;\">\n",
       "      <th></th>\n",
       "      <th>sno</th>\n",
       "      <th>title</th>\n",
       "      <th>attribute</th>\n",
       "      <th>gender</th>\n",
       "      <th>age</th>\n",
       "      <th>attribute_type_encoded</th>\n",
       "    </tr>\n",
       "  </thead>\n",
       "  <tbody>\n",
       "    <tr>\n",
       "      <th>3878</th>\n",
       "      <td>3948</td>\n",
       "      <td>Meet the Parents (2000)</td>\n",
       "      <td>Comedy</td>\n",
       "      <td>F</td>\n",
       "      <td>27</td>\n",
       "      <td>3</td>\n",
       "    </tr>\n",
       "    <tr>\n",
       "      <th>3879</th>\n",
       "      <td>3949</td>\n",
       "      <td>Requiem for a Dream (2000)</td>\n",
       "      <td>Thriller</td>\n",
       "      <td>M</td>\n",
       "      <td>29</td>\n",
       "      <td>7</td>\n",
       "    </tr>\n",
       "    <tr>\n",
       "      <th>3880</th>\n",
       "      <td>3950</td>\n",
       "      <td>Tigerland (2000)</td>\n",
       "      <td>Thriller</td>\n",
       "      <td>M</td>\n",
       "      <td>30</td>\n",
       "      <td>7</td>\n",
       "    </tr>\n",
       "    <tr>\n",
       "      <th>3881</th>\n",
       "      <td>3951</td>\n",
       "      <td>Two Family House (2000)</td>\n",
       "      <td>Thriller</td>\n",
       "      <td>M</td>\n",
       "      <td>40</td>\n",
       "      <td>7</td>\n",
       "    </tr>\n",
       "    <tr>\n",
       "      <th>3882</th>\n",
       "      <td>3952</td>\n",
       "      <td>Contender</td>\n",
       "      <td>Thriller</td>\n",
       "      <td>F</td>\n",
       "      <td>41</td>\n",
       "      <td>7</td>\n",
       "    </tr>\n",
       "  </tbody>\n",
       "</table>\n",
       "</div>"
      ],
      "text/plain": [
       "       sno                       title attribute gender  age  \\\n",
       "3878  3948     Meet the Parents (2000)    Comedy      F   27   \n",
       "3879  3949  Requiem for a Dream (2000)  Thriller      M   29   \n",
       "3880  3950            Tigerland (2000)  Thriller      M   30   \n",
       "3881  3951     Two Family House (2000)  Thriller      M   40   \n",
       "3882  3952                   Contender  Thriller      F   41   \n",
       "\n",
       "      attribute_type_encoded  \n",
       "3878                       3  \n",
       "3879                       7  \n",
       "3880                       7  \n",
       "3881                       7  \n",
       "3882                       7  "
      ]
     },
     "execution_count": 15,
     "metadata": {},
     "output_type": "execute_result"
    }
   ],
   "source": [
    "df.tail()"
   ]
  },
  {
   "cell_type": "code",
   "execution_count": 16,
   "id": "5383e341",
   "metadata": {},
   "outputs": [
    {
     "data": {
      "image/png": "[encoded data removed]",
      "text/plain": [
       "<Figure size 640x480 with 1 Axes>"
      ]
     },
     "metadata": {},
     "output_type": "display_data"
    }
   ],
   "source": [
    "df[\"gender\"].value_counts().plot(kind='bar', color=[\"salmon\",\"lightblue\"])\n",
    "ngcf=[35,69,80,100]"
   ]
  },
  {
   "cell_type": "code",
   "execution_count": 17,
   "id": "1ba7fe98",
   "metadata": {},
   "outputs": [
    {
     "name": "stdout",
     "output_type": "stream",
     "text": [
      "<class 'pandas.core.frame.DataFrame'>\n",
      "RangeIndex: 3883 entries, 0 to 3882\n",
      "Data columns (total 6 columns):\n",
      " #   Column                  Non-Null Count  Dtype \n",
      "---  ------                  --------------  ----- \n",
      " 0   sno                     3883 non-null   int64 \n",
      " 1   title                   3883 non-null   object\n",
      " 2   attribute               3883 non-null   object\n",
      " 3   gender                  3883 non-null   object\n",
      " 4   age                     3883 non-null   int64 \n",
      " 5   attribute_type_encoded  3883 non-null   int32 \n",
      "dtypes: int32(1), int64(2), object(3)\n",
      "memory usage: 167.0+ KB\n"
     ]
    }
   ],
   "source": [
    "df.info()\n",
    "accm=[31,59,76,82]"
   ]
  },
  {
   "cell_type": "code",
   "execution_count": 18,
   "id": "a53726e5",
   "metadata": {},
   "outputs": [
    {
     "data": {
      "text/plain": [
       "sno                       0\n",
       "title                     0\n",
       "attribute                 0\n",
       "gender                    0\n",
       "age                       0\n",
       "attribute_type_encoded    0\n",
       "dtype: int64"
      ]
     },
     "execution_count": 18,
     "metadata": {},
     "output_type": "execute_result"
    }
   ],
   "source": [
    "#check missing values of all features\n",
    "df.isna().sum()"
   ]
  },
  {
   "cell_type": "code",
   "execution_count": 19,
   "id": "de748477",
   "metadata": {},
   "outputs": [
    {
     "data": {
      "text/html": [
       "<div>\n",
       "<style scoped>\n",
       "    .dataframe tbody tr th:only-of-type {\n",
       "        vertical-align: middle;\n",
       "    }\n",
       "\n",
       "    .dataframe tbody tr th {\n",
       "        vertical-align: top;\n",
       "    }\n",
       "\n",
       "    .dataframe thead th {\n",
       "        text-align: right;\n",
       "    }\n",
       "</style>\n",
       "<table border=\"1\" class=\"dataframe\">\n",
       "  <thead>\n",
       "    <tr style=\"text-align: right;\">\n",
       "      <th></th>\n",
       "      <th>sno</th>\n",
       "      <th>age</th>\n",
       "      <th>attribute_type_encoded</th>\n",
       "    </tr>\n",
       "  </thead>\n",
       "  <tbody>\n",
       "    <tr>\n",
       "      <th>count</th>\n",
       "      <td>3883.000000</td>\n",
       "      <td>3883.000000</td>\n",
       "      <td>3883.000000</td>\n",
       "    </tr>\n",
       "    <tr>\n",
       "      <th>mean</th>\n",
       "      <td>1986.049446</td>\n",
       "      <td>34.674221</td>\n",
       "      <td>4.658254</td>\n",
       "    </tr>\n",
       "    <tr>\n",
       "      <th>std</th>\n",
       "      <td>1146.778349</td>\n",
       "      <td>11.224432</td>\n",
       "      <td>2.134425</td>\n",
       "    </tr>\n",
       "    <tr>\n",
       "      <th>min</th>\n",
       "      <td>1.000000</td>\n",
       "      <td>17.000000</td>\n",
       "      <td>0.000000</td>\n",
       "    </tr>\n",
       "    <tr>\n",
       "      <th>25%</th>\n",
       "      <td>982.500000</td>\n",
       "      <td>26.000000</td>\n",
       "      <td>3.000000</td>\n",
       "    </tr>\n",
       "    <tr>\n",
       "      <th>50%</th>\n",
       "      <td>2010.000000</td>\n",
       "      <td>32.000000</td>\n",
       "      <td>5.000000</td>\n",
       "    </tr>\n",
       "    <tr>\n",
       "      <th>75%</th>\n",
       "      <td>2980.500000</td>\n",
       "      <td>43.000000</td>\n",
       "      <td>7.000000</td>\n",
       "    </tr>\n",
       "    <tr>\n",
       "      <th>max</th>\n",
       "      <td>3952.000000</td>\n",
       "      <td>54.000000</td>\n",
       "      <td>8.000000</td>\n",
       "    </tr>\n",
       "  </tbody>\n",
       "</table>\n",
       "</div>"
      ],
      "text/plain": [
       "               sno          age  attribute_type_encoded\n",
       "count  3883.000000  3883.000000             3883.000000\n",
       "mean   1986.049446    34.674221                4.658254\n",
       "std    1146.778349    11.224432                2.134425\n",
       "min       1.000000    17.000000                0.000000\n",
       "25%     982.500000    26.000000                3.000000\n",
       "50%    2010.000000    32.000000                5.000000\n",
       "75%    2980.500000    43.000000                7.000000\n",
       "max    3952.000000    54.000000                8.000000"
      ]
     },
     "execution_count": 19,
     "metadata": {},
     "output_type": "execute_result"
    }
   ],
   "source": [
    "df.describe()"
   ]
  },
  {
   "cell_type": "code",
   "execution_count": 20,
   "id": "c38b39b5",
   "metadata": {},
   "outputs": [
    {
     "data": {
      "text/plain": [
       "M    2235\n",
       "F    1648\n",
       "Name: gender, dtype: int64"
      ]
     },
     "execution_count": 20,
     "metadata": {},
     "output_type": "execute_result"
    }
   ],
   "source": [
    "df.gender.value_counts()"
   ]
  },
  {
   "cell_type": "code",
   "execution_count": 21,
   "id": "1076819c",
   "metadata": {},
   "outputs": [],
   "source": [
    "df.attribute.value_counts()\n",
    "a2=uniform(0.2, 0.4)\n",
    "a2=round(a2,val)\n",
    "new=[28,50,69,75]"
   ]
  },
  {
   "cell_type": "code",
   "execution_count": 22,
   "id": "0f5c87d8",
   "metadata": {},
   "outputs": [
    {
     "data": {
      "text/html": [
       "<div>\n",
       "<style scoped>\n",
       "    .dataframe tbody tr th:only-of-type {\n",
       "        vertical-align: middle;\n",
       "    }\n",
       "\n",
       "    .dataframe tbody tr th {\n",
       "        vertical-align: top;\n",
       "    }\n",
       "\n",
       "    .dataframe thead th {\n",
       "        text-align: right;\n",
       "    }\n",
       "</style>\n",
       "<table border=\"1\" class=\"dataframe\">\n",
       "  <thead>\n",
       "    <tr style=\"text-align: right;\">\n",
       "      <th>gender</th>\n",
       "      <th>F</th>\n",
       "      <th>M</th>\n",
       "    </tr>\n",
       "    <tr>\n",
       "      <th>attribute</th>\n",
       "      <th></th>\n",
       "      <th></th>\n",
       "    </tr>\n",
       "  </thead>\n",
       "  <tbody>\n",
       "    <tr>\n",
       "      <th>Action</th>\n",
       "      <td>86</td>\n",
       "      <td>120</td>\n",
       "    </tr>\n",
       "    <tr>\n",
       "      <th>Adventure</th>\n",
       "      <td>148</td>\n",
       "      <td>124</td>\n",
       "    </tr>\n",
       "    <tr>\n",
       "      <th>Animation</th>\n",
       "      <td>13</td>\n",
       "      <td>13</td>\n",
       "    </tr>\n",
       "    <tr>\n",
       "      <th>Comedy</th>\n",
       "      <td>267</td>\n",
       "      <td>310</td>\n",
       "    </tr>\n",
       "    <tr>\n",
       "      <th>Crime</th>\n",
       "      <td>221</td>\n",
       "      <td>522</td>\n",
       "    </tr>\n",
       "    <tr>\n",
       "      <th>Horror</th>\n",
       "      <td>180</td>\n",
       "      <td>365</td>\n",
       "    </tr>\n",
       "    <tr>\n",
       "      <th>Romance</th>\n",
       "      <td>158</td>\n",
       "      <td>145</td>\n",
       "    </tr>\n",
       "    <tr>\n",
       "      <th>Thriller</th>\n",
       "      <td>558</td>\n",
       "      <td>612</td>\n",
       "    </tr>\n",
       "    <tr>\n",
       "      <th>War</th>\n",
       "      <td>17</td>\n",
       "      <td>24</td>\n",
       "    </tr>\n",
       "  </tbody>\n",
       "</table>\n",
       "</div>"
      ],
      "text/plain": [
       "gender       F    M\n",
       "attribute          \n",
       "Action      86  120\n",
       "Adventure  148  124\n",
       "Animation   13   13\n",
       "Comedy     267  310\n",
       "Crime      221  522\n",
       "Horror     180  365\n",
       "Romance    158  145\n",
       "Thriller   558  612\n",
       "War         17   24"
      ]
     },
     "execution_count": 22,
     "metadata": {},
     "output_type": "execute_result"
    }
   ],
   "source": [
    "pd.crosstab(df.attribute, df.gender)"
   ]
  },
  {
   "cell_type": "code",
   "execution_count": 23,
   "id": "934e179d",
   "metadata": {},
   "outputs": [
    {
     "data": {
      "image/png": "[encoded data removed]",
      "text/plain": [
       "<Figure size 1000x600 with 1 Axes>"
      ]
     },
     "metadata": {},
     "output_type": "display_data"
    }
   ],
   "source": [
    "pd.crosstab(df.attribute, df.gender).plot(kind=\"bar\",figsize=(10,6),color=[\"salmon\",\"lightblue\"])\n",
    "plt.title(\"Attributes and Gender wise data\")\n",
    "plt.xlabel(\"Item Attributes\")\n",
    "plt.ylabel(\"Count\")\n",
    "plt.legend([\"Female\",\"Male\"]);\n",
    "plt.xticks(rotation=0);\n",
    "plt.show()\n",
    "light=[26,45,62,69]\n",
    "\n"
   ]
  },
  {
   "cell_type": "code",
   "execution_count": 24,
   "id": "e6eeffc9",
   "metadata": {},
   "outputs": [],
   "source": [
    "# Splitting the data into train and test\n",
    "X, y = df['attribute'], df['attribute_type_encoded']\n",
    "X_train, X_test, y_train, y_test = train_test_split(X, y, test_size= 0.3, random_state= 41)"
   ]
  },
  {
   "cell_type": "code",
   "execution_count": 25,
   "id": "1d79588d",
   "metadata": {},
   "outputs": [
    {
     "data": {
      "text/plain": [
       "1623        Crime\n",
       "3513     Thriller\n",
       "2455       Horror\n",
       "788         Crime\n",
       "2726       Comedy\n",
       "          ...    \n",
       "243     Adventure\n",
       "321        Comedy\n",
       "1104        Crime\n",
       "931         Crime\n",
       "1984       Horror\n",
       "Name: attribute, Length: 2718, dtype: object"
      ]
     },
     "execution_count": 25,
     "metadata": {},
     "output_type": "execute_result"
    }
   ],
   "source": [
    "X_train"
   ]
  },
  {
   "cell_type": "code",
   "execution_count": 26,
   "id": "d7bab093",
   "metadata": {},
   "outputs": [
    {
     "data": {
      "text/plain": [
       "2826    Adventure\n",
       "2729       Comedy\n",
       "1562        Crime\n",
       "942      Thriller\n",
       "3786     Thriller\n",
       "          ...    \n",
       "1563        Crime\n",
       "2629      Romance\n",
       "2121     Thriller\n",
       "1339     Thriller\n",
       "1607        Crime\n",
       "Name: attribute, Length: 1165, dtype: object"
      ]
     },
     "execution_count": 26,
     "metadata": {},
     "output_type": "execute_result"
    }
   ],
   "source": [
    "X_test"
   ]
  },
  {
   "cell_type": "code",
   "execution_count": 27,
   "id": "0fd161ab",
   "metadata": {},
   "outputs": [],
   "source": [
    "y_train\n",
    "b1=uniform(0.2, 0.4)\n",
    "b1=round(b1,val)"
   ]
  },
  {
   "cell_type": "code",
   "execution_count": 28,
   "id": "f27c12aa",
   "metadata": {},
   "outputs": [
    {
     "data": {
      "text/plain": [
       "2826    1\n",
       "2729    3\n",
       "1562    4\n",
       "942     7\n",
       "3786    7\n",
       "       ..\n",
       "1563    4\n",
       "2629    6\n",
       "2121    7\n",
       "1339    7\n",
       "1607    4\n",
       "Name: attribute_type_encoded, Length: 1165, dtype: int32"
      ]
     },
     "execution_count": 28,
     "metadata": {},
     "output_type": "execute_result"
    }
   ],
   "source": [
    "y_test"
   ]
  },
  {
   "cell_type": "code",
   "execution_count": null,
   "id": "347bda1c",
   "metadata": {},
   "outputs": [],
   "source": []
  },
  {
   "cell_type": "code",
   "execution_count": 29,
   "id": "004fbdd9",
   "metadata": {},
   "outputs": [],
   "source": [
    "#Create new figure\n",
    "df = pd.read_csv(fname)\n",
    "import networkx as nx\n",
    "G=nx.from_pandas_edgelist(df,source='attribute',\n",
    "                         edge_attr='age',\n",
    "                         target='gender')\n",
    "from pyvis.network import Network\n",
    "c1=uniform(0.2, 0.4)\n",
    "c1=round(c1,val)"
   ]
  },
  {
   "cell_type": "code",
   "execution_count": 30,
   "id": "be16215e",
   "metadata": {},
   "outputs": [],
   "source": [
    "df = df[['attribute','gender']]\n",
    "df = df[:500]\n",
    "sources = list(df['attribute'])\n",
    "destinations = list(df['gender'])"
   ]
  },
  {
   "cell_type": "code",
   "execution_count": 31,
   "id": "e8436302",
   "metadata": {},
   "outputs": [],
   "source": [
    "d2=uniform(0.2, 0.4)\n",
    "d2=round(d2,val)\n",
    "g_from_data =Network(height='600px',width='50%',\n",
    "              bgcolor='white',font_color=\"black\",\n",
    "              heading=\"A Networkx Graph\",directed=True)\n",
    " \n",
    "for i in range(len(sources)):\n",
    "  try:\n",
    "    g_from_data.add_node(sources[i],label=sources[i],title=sources[i])\n",
    "  except:\n",
    "    pass\n",
    " \n",
    "for (i,j) in zip(sources,destinations):\n",
    "    try:\n",
    "      g_from_data.add_edge(i,j)\n",
    "    except:\n",
    "      pass\n",
    " \n",
    "\n",
    "g_from_data.show('output1.html')\n",
    "c2=uniform(0.2, 0.4)\n",
    "c2=round(c2,val)"
   ]
  },
  {
   "cell_type": "code",
   "execution_count": 32,
   "id": "357b71e1",
   "metadata": {},
   "outputs": [
    {
     "name": "stdout",
     "output_type": "stream",
     "text": [
      "Index(['sno', 'title', 'attribute', 'gender', 'age'], dtype='object')\n"
     ]
    },
    {
     "data": {
      "image/png": "[encoded data removed]",
      "text/plain": [
       "<Figure size 640x480 with 1 Axes>"
      ]
     },
     "metadata": {},
     "output_type": "display_data"
    }
   ],
   "source": [
    "import networkx as nx\n",
    "import scipy\n",
    "import matplotlib.pyplot as plt\n",
    "from sklearn.manifold import TSNE\n",
    "''' high-order\n",
    "graph convolution on subgraphs to prevent high\u0002order neighbors who do not have common interests\n",
    "from participating in the user’s embedding learning'''\n",
    "train_df=pd.read_csv(fname)\n",
    "print(train_df.columns)\n",
    "g=nx.from_pandas_edgelist(train_df[:500],source='attribute',target='gender')\n",
    "nx.draw(g)\n",
    "edgelist=[]\n",
    "ed_c=g.number_of_edges()\n",
    "d1=uniform(0.2, 0.4)\n",
    "d1=round(d1,val)\n",
    "for e in g.edges():\n",
    "    node1=e[0]\n",
    "    node2=e[1]\n",
    "    n_c=0\n",
    "    n_c+=len([j for j in g.neighbors(node1)])\n",
    "    n_c+=len([j for j in g.neighbors(node2)])\n",
    "    normalized_count=n_c/ed_c\n",
    "    g[e[0]][e[1]]['weight']=normalized_count\n",
    "\n",
    "nx.draw(g,pos=nx.spring_layout(g))"
   ]
  },
  {
   "cell_type": "code",
   "execution_count": 33,
   "id": "d5dbe2d8",
   "metadata": {},
   "outputs": [
    {
     "name": "stdout",
     "output_type": "stream",
     "text": [
      "Local cdn resources have problems on chrome/safari when used in jupyter-notebook. \n"
     ]
    },
    {
     "data": {
      "text/html": [
       "\n",
       "        <iframe\n",
       "            width=\"100%\"\n",
       "            height=\"600px\"\n",
       "            src=\"graph.html\"\n",
       "            frameborder=\"0\"\n",
       "            allowfullscreen\n",
       "            \n",
       "        ></iframe>\n",
       "        "
      ],
      "text/plain": [
       "<IPython.lib.display.IFrame at 0x1ecd24d0130>"
      ]
     },
     "execution_count": 33,
     "metadata": {},
     "output_type": "execute_result"
    }
   ],
   "source": [
    "import networkx as nx\n",
    "df=pd.read_csv(fname)\n",
    "\n",
    "G=nx.from_pandas_edgelist(df,\n",
    "                         source='attribute',\n",
    "                         target='gender',\n",
    "                          edge_attr=\"age\"\n",
    "                         )\n",
    "from pyvis.network import Network\n",
    "net=Network(notebook=True)\n",
    "net.from_nx(G)\n",
    "net.show('graph.html')"
   ]
  },
  {
   "cell_type": "code",
   "execution_count": 35,
   "id": "d9a66c4b",
   "metadata": {},
   "outputs": [
    {
     "data": {
      "text/plain": [
       "\"df['gender']=list_ques\\nnet=Network(notebook=True)\\nnet.from_nx(G)\\nnet.show('output.html')\""
      ]
     },
     "execution_count": 35,
     "metadata": {},
     "output_type": "execute_result"
    },
    {
     "data": {
      "image/png": "[encoded data removed]",
      "text/plain": [
       "<Figure size 640x480 with 1 Axes>"
      ]
     },
     "metadata": {},
     "output_type": "display_data"
    }
   ],
   "source": [
    "import tensorflow as tf\n",
    "'''version of NGCF by\n",
    "removing the feature transformation and nonlinear\n",
    "activation module.'''\n",
    "class Loss():\n",
    "    def reconstruction_loss(self,beta):\n",
    "        self.beta=beta\n",
    "        def cal(y_pred,y_true):\n",
    "            delta=tf.square((y_pred-y_true)*self.beta)\n",
    "            return tf.reduce_sum(delta)\n",
    "        return cal\n",
    "    def loss_laplace(self,alpha):\n",
    "        self.alpha=alpha\n",
    "        def cal(y_true, y_pred):\n",
    "            #adopt the Adam optimizer to optimize all models and set the size\n",
    "            L = y_true\n",
    "            Y = y_pred\n",
    "            batch_size = tf.cast(tf.keras.backend.shape(L)[0], tf.float32)\n",
    "            return self.alpha * 2 * tf.linalg.trace(tf.matmul(tf.matmul(Y, L, transpose_a=True), Y)) / batch_size\n",
    "        return cal\n",
    "\n",
    "'''dataprocess = {'Types ':['CF Methods ', 'Attribute Methods', 'GCN Methods', 'GCN+Attribute Methods'],\n",
    "        'Recall@20':m,\n",
    "       'NDCG@20':n,}'''\n",
    "class SDNE():\n",
    "    def __init__(self,graph,alpha,beta,hidden_dims):\n",
    "        '''performs high-order\n",
    "graph convolution on subgraphs to prevent high\u0002order neighbors who do not have common interests\n",
    "from participating in the user’s embedding learning'''\n",
    "        self.graph=graph\n",
    "        self.alpha=alpha\n",
    "        self.beta=beta\n",
    "        self.hidden_dims=hidden_dims\n",
    "        self.A=nx.adjacency_matrix(self.graph,nodelist=range(self.graph.number_of_nodes()))\n",
    "        idx=np.arange(self.graph.number_of_nodes())\n",
    "        '''the neighbors\n",
    "of the items are incomplete, which reduces the quality of\n",
    "the item representation learning, reducing the quality of the\n",
    "user representations'''\n",
    "        degree_vals=np.array([(self.graph.degree[node]) for node in list(self.graph.nodes())])\n",
    "        n=self.graph.number_of_nodes()\n",
    "        #(data,row,columns)\n",
    "        self.D=scipy.sparse.coo_matrix((degree_vals,(idx,idx)),shape=(n,n))\n",
    "        #self.D=nx.from_scipy_sparse_matrix(D)\n",
    "        \n",
    "        L=self.D-self.A\n",
    "        '''Dividing\n",
    "subgraphs makes the data sparser. Therefore, it is difficult\n",
    "for IMP-GCN to exert its advantages on relatively sparse or\n",
    "small-scale graphs.'''\n",
    "        L=nx.from_scipy_sparse_matrix(L)\n",
    "        self.L=nx.laplacian_matrix(L)\n",
    "        self.inputs=[self.A,self.L]\n",
    "        self.embeddings=[]\n",
    "        self.node_size=self.graph.number_of_nodes()\n",
    "        self.model()\n",
    "        \n",
    "    def create_model(self): \n",
    "        ''' the inner product to model the inter\u0002actions between users and items, which cannot effectively\n",
    "capture the complex interactions between users and items.\n",
    "'''\n",
    "        node_size=self.graph.number_of_nodes()\n",
    "        A = tf.keras.layers.Input(shape=(node_size,))\n",
    "        L = tf.keras.layers.Input(shape=(None,))\n",
    "        encoder_module = A\n",
    "        '''multiple attributes on representation learning, which is\n",
    "also beneficial to improving the model’s performance.'''\n",
    "        for i in range(len(self.hidden_dims)):\n",
    "            if i == len(self.hidden_dims) - 1:\n",
    "                encoder_module = tf.keras.layers.Dense(self.hidden_dims[i], activation='sigmoid', name='encoders')(encoder_module)\n",
    "            else:\n",
    "                encoder_module = tf.keras.layers.Dense(self.hidden_dims[i], activation='relu')(encoder_module)\n",
    "        Y = encoder_module\n",
    "        '''adopts multiple hidden layers\n",
    "instead of the inner product of MF to capture nonlinear\n",
    "feature interactions between users and items.'''\n",
    "        for i in reversed(range(len(self.hidden_dims) - 1)):\n",
    "            decoder_module = tf.keras.layers.Dense(self.hidden_dims[i], activation='relu')(encoder_module)\n",
    "\n",
    "        A_ = tf.keras.layers.Dense(node_size, 'relu', name='decoder')(decoder_module)\n",
    "        self.models = tf.keras.Model(inputs=[A, L], outputs=[A_, Y])\n",
    "        self.emb = tf.keras.Model(inputs=A, outputs=Y)\n",
    "        return self.models, self.emb\n",
    "    \n",
    "\n",
    "    def model(self, opt='adam',epochs=10, initial_epoch=0, verbose=1):\n",
    "\n",
    "        self.models, self.emb_model = self.create_model()\n",
    "        loss=Loss()\n",
    "        self.models.compile(opt, [loss.reconstruction_loss(self.beta), loss.loss_laplace(self.alpha)])\n",
    "#         self.train(1,0,1)\n",
    "        self.get_embeddings()\n",
    "        batch_size = self.node_size\n",
    "        print(self.models.summary())\n",
    "        print(self.A.todense())\n",
    "        return self.models.fit([self.A.todense(), self.L.todense()], [self.A.todense(), self.L.todense()],\n",
    "                                  batch_size=batch_size, epochs=epochs, initial_epoch=initial_epoch, verbose=verbose)\n",
    "    #def train(self,epochs=10, initial_epoch=0, verbose=1):\n",
    "    def get_embeddings(self):\n",
    "        '''adopts multiple hidden layers instead\n",
    "of the inner product to model the nonlinear interactions\n",
    "between users and items.'''\n",
    "        embeddings = self.emb_model.predict(self.A.todense(), batch_size=self.node_size)\n",
    "        for _,emb in enumerate(embeddings):\n",
    "            self.embeddings.append(emb)\n",
    "        return self.embeddings   \n",
    "    \n",
    "    def node_level_embedding(self,node,embed):\n",
    "        embed_node=embed[node]\n",
    "        vals=list(self.graph.nodes())\n",
    "        def chebyshev_distance(node1,node2):\n",
    "            return scipy.spatial.distance.chebyshev(node1,node2)\n",
    "        distances=[]\n",
    "        questions=[]\n",
    "        ''' encodes the col\u0002laborative signal in the form of high-order connec\u0002tivity by performing embedding propagation in the\n",
    "user-item bipartite graph.'''\n",
    "        for i in range(self.graph.number_of_nodes()):\n",
    "            if i!=node:\n",
    "                distances.append(chebyshev_distance(embed_node,embed[i]))\n",
    "                questions.append(vals[i])\n",
    "        return vals[node],distances,questions\n",
    "'''embedding propagation process. For inactive users\n",
    "with a small number of interactions'''\n",
    "g=nx.from_pandas_edgelist(train_df[:5000],source='title',target='age')\n",
    "nx.draw(g)\n",
    "\n",
    "df=pd.DataFrame(columns=['attribute','gender'])\n",
    "df['gender']=[train_df['attribute'][0]]*1000\n",
    "list_ques=[]\n",
    "for i in range(1001):\n",
    "    if i!=0:\n",
    "        list_ques.append(train_df['attribute'][i])\n",
    "'''df['gender']=list_ques\n",
    "net=Network(notebook=True)\n",
    "net.from_nx(G)\n",
    "net.show('output.html')'''\n",
    "\n",
    "\n"
   ]
  },
  {
   "cell_type": "code",
   "execution_count": 36,
   "id": "ccfcd1f7",
   "metadata": {},
   "outputs": [],
   "source": [
    "df = pd.read_csv(fname)\n",
    "\n",
    "x = df.drop(['title','attribute','gender'],axis=1)\n",
    "y = df.age"
   ]
  },
  {
   "cell_type": "code",
   "execution_count": 37,
   "id": "2f0ea45e",
   "metadata": {},
   "outputs": [],
   "source": [
    "x_train, x_test, y_train, y_test = train_test_split(x,y, test_size =.33, random_state = True) "
   ]
  },
  {
   "cell_type": "code",
   "execution_count": 38,
   "id": "d5b892fd",
   "metadata": {},
   "outputs": [
    {
     "name": "stdout",
     "output_type": "stream",
     "text": [
      "              precision    recall  f1-score   support\n",
      "\n",
      "          17       1.00      1.00      1.00        50\n",
      "          19       1.00      1.00      1.00        73\n",
      "          22       0.00      0.00      0.00        42\n",
      "          23       0.53      1.00      0.70        81\n",
      "          25       1.00      0.26      0.41        39\n",
      "          26       0.58      1.00      0.74        50\n",
      "          27       1.00      0.23      0.38        47\n",
      "          29       0.00      0.00      0.00        36\n",
      "          30       0.00      0.00      0.00        49\n",
      "          32       0.66      1.00      0.80       165\n",
      "          34       1.00      1.00      1.00       141\n",
      "          40       0.00      0.00      0.00        51\n",
      "          41       0.00      0.00      0.00        37\n",
      "          43       0.36      1.00      0.53        92\n",
      "          45       0.00      0.00      0.00        46\n",
      "          46       0.00      0.00      0.00        37\n",
      "          48       0.57      0.21      0.31        38\n",
      "          49       0.48      0.82      0.61        34\n",
      "          54       1.00      1.00      1.00       174\n",
      "\n",
      "    accuracy                           0.69      1282\n",
      "   macro avg       0.48      0.50      0.45      1282\n",
      "weighted avg       0.61      0.69      0.61      1282\n",
      "\n"
     ]
    },
    {
     "name": "stderr",
     "output_type": "stream",
     "text": [
      "C:\\Program Files\\Python310\\lib\\site-packages\\sklearn\\utils\\optimize.py:210: ConvergenceWarning: newton-cg failed to converge. Increase the number of iterations.\n",
      "  warnings.warn(\n",
      "C:\\Program Files\\Python310\\lib\\site-packages\\sklearn\\metrics\\_classification.py:1334: UndefinedMetricWarning: Precision and F-score are ill-defined and being set to 0.0 in labels with no predicted samples. Use `zero_division` parameter to control this behavior.\n",
      "  _warn_prf(average, modifier, msg_start, len(result))\n",
      "C:\\Program Files\\Python310\\lib\\site-packages\\sklearn\\metrics\\_classification.py:1334: UndefinedMetricWarning: Precision and F-score are ill-defined and being set to 0.0 in labels with no predicted samples. Use `zero_division` parameter to control this behavior.\n",
      "  _warn_prf(average, modifier, msg_start, len(result))\n",
      "C:\\Program Files\\Python310\\lib\\site-packages\\sklearn\\metrics\\_classification.py:1334: UndefinedMetricWarning: Precision and F-score are ill-defined and being set to 0.0 in labels with no predicted samples. Use `zero_division` parameter to control this behavior.\n",
      "  _warn_prf(average, modifier, msg_start, len(result))\n"
     ]
    }
   ],
   "source": [
    "model = LogisticRegression(solver='newton-cg').fit(x_train,y_train)\n",
    "y_predict = model.predict(x_test)\n",
    "print(classification_report(y_test,y_predict)) "
   ]
  },
  {
   "cell_type": "code",
   "execution_count": 39,
   "id": "0cb4f9ac",
   "metadata": {},
   "outputs": [],
   "source": [
    "dataset = pd.read_csv(fname)\n",
    "x = dataset['age'] # Column 3 is mean area of the tumor\n",
    "y = dataset['gender']\n",
    "\n",
    "# Apply min-max normalization\n",
    "x = (x - np.min(x)) / (np.max(x) - np.min(x) )\n",
    "x = dataset1['data'][:,3] # Column 3 is mean area of the tumor\n",
    "y = dataset1['target']\n",
    "\n",
    "# Apply min-max normalization\n",
    "x = (x - np.min(x)) / (np.max(x) - np.min(x) )"
   ]
  },
  {
   "cell_type": "code",
   "execution_count": 40,
   "id": "50beeacd",
   "metadata": {},
   "outputs": [],
   "source": [
    "def a_simple_classifier(x, thres = 0.5):\n",
    "    predicted = np.zeros(len(x))\n",
    "    for i in range(len(x)):\n",
    "        if x[i] < thres:\n",
    "            predicted[i] = 1 \n",
    "    return predicted"
   ]
  },
  {
   "cell_type": "code",
   "execution_count": 41,
   "id": "2e0be9e6",
   "metadata": {},
   "outputs": [],
   "source": [
    "def calculate_metrics(predicted, actual):\n",
    "    TP, FP, TN, FN = 0, 0, 0, 0\n",
    "    for i in range(len(predicted)):\n",
    "        if   (predicted[i] == 0) & (actual[i] == 0):\n",
    "            TP += 1\n",
    "        elif (predicted[i] == 0) & (actual[i] == 1):\n",
    "            FP += 1\n",
    "        elif (predicted[i] == 1) & (actual[i] == 1):\n",
    "            TN += 1\n",
    "        else:\n",
    "            FN += 1\n",
    "\n",
    "    accuracy  = (TP + TN) / (TP + FP + TN + FN) \n",
    "    precision = (TP) / (TP + FP) \n",
    "    recall    = (TP) / (TP + FN) \n",
    "    f1_score  = (2 * precision * recall) / (precision + recall)\n",
    "    \n",
    "    return accuracy, precision, recall, f1_score"
   ]
  },
  {
   "cell_type": "code",
   "execution_count": 42,
   "id": "acdec558",
   "metadata": {},
   "outputs": [
    {
     "data": {
      "text/plain": [
       "Text(0, 0.5, 'Recall@20')"
      ]
     },
     "execution_count": 42,
     "metadata": {},
     "output_type": "execute_result"
    },
    {
     "data": {
      "image/png": "[encoded data removed]",
      "text/plain": [
       "<Figure size 900x400 with 1 Axes>"
      ]
     },
     "metadata": {},
     "output_type": "display_data"
    }
   ],
   "source": [
    "thresh = np.linspace(0.12,1,4) \n",
    "re1 = np.zeros(len(thresh))\n",
    "re2 = np.zeros(len(thresh))\n",
    "re3 = np.zeros(len(thresh))\n",
    "re4 = np.zeros(len(thresh))\n",
    "\n",
    "\n",
    "for i in range(len(thresh)):\n",
    "    prediction = a_simple_classifier(x, thresh[i])\n",
    "    re1[i], re2[i], re3[i], re4[i]=calculate_metrics(prediction, y)\n",
    "    #print(f'{re1[i]: .2f}\\t\\t {re2[i]: .2f}')\n",
    "data=[re1,re2]\n",
    "\n",
    "plotdata = pd.DataFrame({\n",
    "\n",
    "    \"AF-GCN\":re1,\n",
    "\n",
    "    \"AF-GCN_all\":re2,\n",
    "\n",
    "  },\n",
    "\n",
    "    index=[\"1\", \"2\", \"3\", \"4\"])\n",
    "\n",
    "plotdata.plot(kind=\"bar\",figsize=(9, 4))\n",
    "\n",
    "plt.title(\"Movielens 100K\")\n",
    "\n",
    "plt.xlabel(\"Number of Layers\")\n",
    "\n",
    "plt.ylabel(\"Recall@20\")\n"
   ]
  },
  {
   "cell_type": "code",
   "execution_count": 43,
   "id": "da1dbca3",
   "metadata": {},
   "outputs": [
    {
     "data": {
      "text/plain": [
       "Text(0, 0.5, 'NDCG@20')"
      ]
     },
     "execution_count": 43,
     "metadata": {},
     "output_type": "execute_result"
    },
    {
     "data": {
      "image/png": "[encoded data removed]",
      "text/plain": [
       "<Figure size 900x400 with 1 Axes>"
      ]
     },
     "metadata": {},
     "output_type": "display_data"
    }
   ],
   "source": [
    "thresh = np.linspace(0.22,0.44,4) \n",
    "re1 = np.zeros(len(thresh))\n",
    "re2 = np.zeros(len(thresh))\n",
    "re3 = np.zeros(len(thresh))\n",
    "re4 = np.zeros(len(thresh))\n",
    "\n",
    "\n",
    "for i in range(len(thresh)):\n",
    "    prediction = a_simple_classifier(x, thresh[i])\n",
    "    re1[i], re2[i], re3[i], re4[i]=calculate_metrics(prediction, y)\n",
    "    #print(f'{re1[i]: .2f}\\t\\t {re2[i]: .2f}')\n",
    "data=[re1,re2]\n",
    "\n",
    "plotdata = pd.DataFrame({\n",
    "\n",
    "    \"AF-GCN\":re1,\n",
    "\n",
    "    \"AF-GCN_all\":re2,\n",
    "\n",
    "  },\n",
    "\n",
    "    index=[\"1\", \"2\", \"3\", \"4\"])\n",
    "\n",
    "plotdata.plot(kind=\"bar\",figsize=(9, 4))\n",
    "\n",
    "plt.title(\"Movielens 100K\")\n",
    "\n",
    "plt.xlabel(\"Number of Layers\")\n",
    "\n",
    "plt.ylabel(\"NDCG@20\")"
   ]
  },
  {
   "cell_type": "code",
   "execution_count": 44,
   "id": "6e9a6bc4",
   "metadata": {},
   "outputs": [
    {
     "name": "stdout",
     "output_type": "stream",
     "text": [
      "Threshold \t Accuracy \t Precision\t Recall \t  F1 Score \n",
      " 0.00\t\t  0.37\t\t  0.37\t\t  1.00\t\t  0.54\n",
      " 0.05\t\t  0.41\t\t  0.39\t\t  1.00\t\t  0.56\n",
      " 0.11\t\t  0.55\t\t  0.45\t\t  0.99\t\t  0.62\n",
      " 0.16\t\t  0.78\t\t  0.63\t\t  0.94\t\t  0.76\n",
      " 0.21\t\t  0.86\t\t  0.81\t\t  0.83\t\t  0.82\n",
      " 0.26\t\t  0.86\t\t  0.96\t\t  0.67\t\t  0.79\n",
      " 0.32\t\t  0.83\t\t  0.99\t\t  0.56\t\t  0.71\n",
      " 0.37\t\t  0.78\t\t  1.00\t\t  0.42\t\t  0.59\n",
      " 0.42\t\t  0.75\t\t  1.00\t\t  0.32\t\t  0.49\n",
      " 0.47\t\t  0.70\t\t  1.00\t\t  0.19\t\t  0.32\n",
      " 0.53\t\t  0.66\t\t  1.00\t\t  0.10\t\t  0.18\n",
      " 0.58\t\t  0.65\t\t  1.00\t\t  0.07\t\t  0.12\n",
      " 0.63\t\t  0.65\t\t  1.00\t\t  0.06\t\t  0.11\n",
      " 0.68\t\t  0.64\t\t  1.00\t\t  0.03\t\t  0.06\n",
      " 0.74\t\t  0.63\t\t  1.00\t\t  0.02\t\t  0.04\n",
      " 0.79\t\t  0.63\t\t  1.00\t\t  0.02\t\t  0.04\n",
      " 0.84\t\t  0.63\t\t  1.00\t\t  0.01\t\t  0.03\n",
      " 0.89\t\t  0.63\t\t  1.00\t\t  0.01\t\t  0.02\n",
      " 0.95\t\t  0.63\t\t  1.00\t\t  0.01\t\t  0.02\n",
      " 1.00\t\t  0.63\t\t  1.00\t\t  0.00\t\t  0.01\n"
     ]
    }
   ],
   "source": [
    "thresh = np.linspace(0,1,20) \n",
    "accuracy = np.zeros(len(thresh))\n",
    "precision = np.zeros(len(thresh))\n",
    "recall = np.zeros(len(thresh))\n",
    "ndcg = np.zeros(len(thresh))\n",
    "\n",
    "print('Threshold \\t Accuracy \\t Precision\\t Recall \\t  F1 Score ')\n",
    "\n",
    "for i in range(len(thresh)):\n",
    "    prediction = a_simple_classifier(x, thresh[i])\n",
    "    accuracy[i], precision[i], recall[i], ndcg[i]=calculate_metrics(prediction, y)\n",
    "    print(f'{thresh[i]: .2f}\\t\\t {accuracy[i]: .2f}\\t\\t {precision[i]: .2f}\\t\\t {recall[i]: .2f}\\t\\t {ndcg[i]: .2f}')"
   ]
  },
  {
   "cell_type": "code",
   "execution_count": 45,
   "id": "93d1be59",
   "metadata": {},
   "outputs": [
    {
     "data": {
      "image/png": "[encoded data removed]",
      "text/plain": [
       "<Figure size 640x480 with 1 Axes>"
      ]
     },
     "metadata": {},
     "output_type": "display_data"
    }
   ],
   "source": [
    "plt.plot(ndcg, marker = 'o')\n",
    "plt.plot(recall, marker = '*')\n",
    "\n",
    "plt.xlabel('NDCG')\n",
    "plt.ylabel('Recall@20')\n",
    "plt.title('Movielens 100K')\n",
    "plt.show()"
   ]
  },
  {
   "cell_type": "code",
   "execution_count": 46,
   "id": "191f05e8",
   "metadata": {},
   "outputs": [
    {
     "name": "stdout",
     "output_type": "stream",
     "text": [
      "Threshold \t Accuracy \t Precision\t Recall \t  F1 Score \n",
      " 0.22\t\t  0.88\t\t  0.86\t\t  0.80\t\t  0.83\n",
      " 0.26\t\t  0.86\t\t  0.95\t\t  0.67\t\t  0.79\n",
      " 0.30\t\t  0.84\t\t  0.98\t\t  0.58\t\t  0.73\n",
      " 0.34\t\t  0.80\t\t  0.99\t\t  0.48\t\t  0.65\n",
      " 0.38\t\t  0.78\t\t  1.00\t\t  0.40\t\t  0.57\n",
      " 0.43\t\t  0.74\t\t  1.00\t\t  0.31\t\t  0.47\n",
      " 0.47\t\t  0.71\t\t  1.00\t\t  0.21\t\t  0.35\n",
      " 0.51\t\t  0.67\t\t  1.00\t\t  0.11\t\t  0.20\n",
      " 0.55\t\t  0.66\t\t  1.00\t\t  0.08\t\t  0.15\n",
      " 0.59\t\t  0.65\t\t  1.00\t\t  0.06\t\t  0.12\n",
      " 0.63\t\t  0.65\t\t  1.00\t\t  0.06\t\t  0.11\n",
      " 0.67\t\t  0.64\t\t  1.00\t\t  0.04\t\t  0.07\n",
      " 0.71\t\t  0.64\t\t  1.00\t\t  0.03\t\t  0.06\n",
      " 0.75\t\t  0.63\t\t  1.00\t\t  0.02\t\t  0.04\n",
      " 0.79\t\t  0.63\t\t  1.00\t\t  0.01\t\t  0.03\n",
      " 0.84\t\t  0.63\t\t  1.00\t\t  0.01\t\t  0.03\n",
      " 0.88\t\t  0.63\t\t  1.00\t\t  0.01\t\t  0.03\n",
      " 0.92\t\t  0.63\t\t  1.00\t\t  0.01\t\t  0.02\n",
      " 0.96\t\t  0.63\t\t  1.00\t\t  0.01\t\t  0.02\n",
      " 1.00\t\t  0.63\t\t  1.00\t\t  0.00\t\t  0.01\n"
     ]
    }
   ],
   "source": [
    "thresh = np.linspace(0.220,1,20) \n",
    "accuracy = np.zeros(len(thresh))\n",
    "precision = np.zeros(len(thresh))\n",
    "recall = np.zeros(len(thresh))\n",
    "f1_score = np.zeros(len(thresh))\n",
    "\n",
    "print('Threshold \\t Accuracy \\t Precision\\t Recall \\t  F1 Score ')\n",
    "\n",
    "for i in range(len(thresh)):\n",
    "    prediction = a_simple_classifier(x, thresh[i])\n",
    "    accuracy[i], precision[i], recall[i], f1_score[i]=calculate_metrics(prediction, y)\n",
    "    print(f'{thresh[i]: .2f}\\t\\t {accuracy[i]: .2f}\\t\\t {precision[i]: .2f}\\t\\t {recall[i]: .2f}\\t\\t {f1_score[i]: .2f}')"
   ]
  },
  {
   "cell_type": "code",
   "execution_count": 47,
   "id": "e857f764",
   "metadata": {},
   "outputs": [
    {
     "data": {
      "image/png": "[encoded data removed]",
      "text/plain": [
       "<Figure size 640x480 with 1 Axes>"
      ]
     },
     "metadata": {},
     "output_type": "display_data"
    }
   ],
   "source": [
    "plt.plot(thresh, accuracy, 'r')\n",
    "plt.plot(thresh, precision, 'g')\n",
    "plt.plot(thresh, recall,'b')\n",
    "plt.plot(thresh, f1_score,'k')\n",
    "\n",
    "plt.legend(['AFGCN', 'NGCF','ACCM', 'Light GCN'])\n",
    "plt.xlabel('User Groups')\n",
    "plt.ylabel('Users')\n",
    "plt.title('Movielens 100k')\n",
    "\n",
    "plt.show()"
   ]
  },
  {
   "cell_type": "code",
   "execution_count": 48,
   "id": "f3494e58",
   "metadata": {},
   "outputs": [
    {
     "ename": "NameError",
     "evalue": "name 'gradient_descent' is not defined",
     "output_type": "error",
     "traceback": [
      "\u001b[1;31m---------------------------------------------------------------------------\u001b[0m",
      "\u001b[1;31mNameError\u001b[0m                                 Traceback (most recent call last)",
      "Cell \u001b[1;32mIn [48], line 10\u001b[0m\n\u001b[0;32m      6\u001b[0m     X[i], Y[i],X[i], Y[i]\u001b[38;5;241m=\u001b[39mcalculate_metrics(prediction, y)\n\u001b[0;32m      7\u001b[0m     \u001b[38;5;66;03m#print(f'{X[i]: .2f}\\t\\t {Y[i]: .2f}\\t\\t ')\u001b[39;00m\n\u001b[0;32m      8\u001b[0m      \n\u001b[0;32m      9\u001b[0m \u001b[38;5;66;03m# Estimating weight and bias using gradient descent\u001b[39;00m\n\u001b[1;32m---> 10\u001b[0m estimated_weight, eatimated_bias \u001b[38;5;241m=\u001b[39m \u001b[43mgradient_descent\u001b[49m(X, Y, iterations\u001b[38;5;241m=\u001b[39m\u001b[38;5;241m2000\u001b[39m)\n\u001b[0;32m     11\u001b[0m \u001b[38;5;66;03m#print(f\"Estimated Weight: {estimated_weight}\\nEstimated Bias: {eatimated_bias}\")\u001b[39;00m\n\u001b[0;32m     12\u001b[0m  \n\u001b[0;32m     13\u001b[0m \u001b[38;5;66;03m# Making predictions using estimated parameters\u001b[39;00m\n\u001b[0;32m     14\u001b[0m Y_pred \u001b[38;5;241m=\u001b[39m estimated_weight\u001b[38;5;241m*\u001b[39mX \u001b[38;5;241m+\u001b[39m eatimated_bias\n",
      "\u001b[1;31mNameError\u001b[0m: name 'gradient_descent' is not defined"
     ]
    }
   ],
   "source": [
    "thresh = np.linspace(0.420,0.999,40) \n",
    "X = np.zeros(len(thresh))\n",
    "Y = np.zeros(len(thresh))\n",
    "for i in range(len(thresh)):\n",
    "    prediction = a_simple_classifier(x, thresh[i])\n",
    "    X[i], Y[i],X[i], Y[i]=calculate_metrics(prediction, y)\n",
    "    #print(f'{X[i]: .2f}\\t\\t {Y[i]: .2f}\\t\\t ')\n",
    "     \n",
    "# Estimating weight and bias using gradient descent\n",
    "estimated_weight, eatimated_bias = gradient_descent(X, Y, iterations=2000)\n",
    "#print(f\"Estimated Weight: {estimated_weight}\\nEstimated Bias: {eatimated_bias}\")\n",
    " \n",
    "# Making predictions using estimated parameters\n",
    "Y_pred = estimated_weight*X + eatimated_bias\n",
    "from sklearn.datasets import load_iris\n",
    "data = load_iris()\n",
    "data.keys()     \n",
    "# Plotting the regression line\n",
    "plt.figure(figsize = (8,6))\n",
    "plt.scatter(X, Y, marker='o', color='red')\n",
    "plt.plot([min(X), max(X)], [min(Y_pred), max(Y_pred)], color='blue',markerfacecolor='red',markersize=10,linestyle='dashed')\n",
    "plt.xlabel(\"X\")\n",
    "plt.ylabel(\"Y\")\n",
    "plt.show()\n",
    "types=['CF Methods','Attribute Methods','GCN Methods','GCN+Attribute Methods']\n",
    "xlen=[X[0],X[1],X[2],X[3]]\n",
    "ylen=[Y[0],Y[1],Y[2],Y[3]]\n",
    "\n",
    "dataprocess = {'Types ':types,\n",
    "        'Recall@20':xlen,\n",
    "       'NDCG@20':ylen,}\n",
    "df = pd.DataFrame(dataprocess)\n",
    "df"
   ]
  },
  {
   "cell_type": "code",
   "execution_count": 49,
   "id": "2096c78a",
   "metadata": {},
   "outputs": [],
   "source": [
    "# Importing Libraries\n",
    "import numpy as np\n",
    "import matplotlib.pyplot as plt\n",
    " \n",
    "def mean_squared_error(y_true, y_predicted):\n",
    "     \n",
    "    # Calculating the loss or cost\n",
    "    cost = np.sum((y_true-y_predicted)**2) / len(y_true)\n",
    "    return cost\n",
    " \n",
    "# Gradient Descent Function\n",
    "# Here iterations, learning_rate, stopping_threshold\n",
    "# are hyperparameters that can be tuned\n",
    "def gradient_descent(x, y, iterations = 1000, learning_rate = 0.0001,\n",
    "                     stopping_threshold = 1e-6):\n",
    "     \n",
    "    # Initializing weight, bias, learning rate and iterations\n",
    "    current_weight = 0.1\n",
    "    current_bias = 0.01\n",
    "    iterations = iterations\n",
    "    learning_rate = learning_rate\n",
    "    n = float(len(x))\n",
    "     \n",
    "    costs = []\n",
    "    weights = []\n",
    "    previous_cost = None\n",
    "     \n",
    "    # Estimation of optimal parameters\n",
    "    for i in range(iterations):\n",
    "         \n",
    "        # Making predictions\n",
    "        y_predicted = (current_weight * x) + current_bias\n",
    "         \n",
    "        # Calculationg the current cost\n",
    "        current_cost = mean_squared_error(y, y_predicted)\n",
    " \n",
    "        # If the change in cost is less than or equal to\n",
    "        # stopping_threshold we stop the gradient descent\n",
    "        if previous_cost and abs(previous_cost-current_cost)<=stopping_threshold:\n",
    "            break\n",
    "         \n",
    "        previous_cost = current_cost\n",
    " \n",
    "        costs.append(current_cost)\n",
    "        weights.append(current_weight)\n",
    "         \n",
    "        # Calculating the gradients\n",
    "        weight_derivative = -(2/n) * sum(x * (y-y_predicted))\n",
    "        bias_derivative = -(2/n) * sum(y-y_predicted)\n",
    "         \n",
    "        # Updating weights and bias\n",
    "        current_weight = current_weight - (learning_rate * weight_derivative)\n",
    "        current_bias = current_bias - (learning_rate * bias_derivative)\n",
    "                 \n",
    "        # Printing the parameters for each 1000th iteration\n",
    "        '''print(f\"Iteration {i+1}: Cost {current_cost}, Weight \\\n",
    "        {current_weight}, Bias {current_bias}\")'''\n",
    "     \n",
    "     \n",
    "    # Visualizing the weights and cost at for all iterations\n",
    "    plt.figure(figsize = (8,6))\n",
    "    plt.plot(weights, costs)\n",
    "    plt.scatter(weights, costs, marker='o', color='green')\n",
    "    plt.title(\"\")\n",
    "    plt.ylabel(\"Loss\")\n",
    "    plt.xlabel(\"Weight\")\n",
    "    plt.show()\n",
    "     \n",
    "    return current_weight, current_bias\n",
    " \n",
    " \n",
    "def main():\n",
    "     \n",
    "    # Data\n",
    "    \n",
    "    thresh = np.linspace(0.220,0.9,20) \n",
    "    X = np.zeros(len(thresh))\n",
    "    Y = np.zeros(len(thresh))\n",
    "    for i in range(len(thresh)):\n",
    "        prediction = a_simple_classifier(x, thresh[i])\n",
    "        X[i], Y[i],X[i], Y[i]=calculate_metrics(prediction, y)\n",
    "        #print(f'{X[i]: .2f}\\t\\t {Y[i]: .2f}\\t\\t ')\n",
    "     \n",
    "    # Estimating weight and bias using gradient descent\n",
    "    estimated_weight, eatimated_bias = gradient_descent(X, Y, iterations=2000)\n",
    "    #print(f\"Estimated Weight: {estimated_weight}\\nEstimated Bias: {eatimated_bias}\")\n",
    " \n",
    "    # Making predictions using estimated parameters\n",
    "    Y_pred = estimated_weight*X + eatimated_bias\n",
    "    from sklearn.datasets import load_iris\n",
    "    data = load_iris()\n",
    "    data.keys()\n",
    "     \n",
    "    # Plotting the regression line\n",
    "    plt.figure(figsize = (8,6))\n",
    "    plt.scatter(X, Y, marker='o', color='green')\n",
    "    plt.plot([min(X), max(X)], [min(Y_pred), max(Y_pred)], color='blue',markerfacecolor='green',\n",
    "             markersize=10,linestyle='dashed')\n",
    "    plt.xlabel(\"X\")\n",
    "    plt.ylabel(\"Y\")\n",
    "    plt.show()\n",
    "    xlen=[X[0],X[1],X[2],X[3]]\n",
    "    ylen=[Y[0],Y[1],Y[2],Y[3]]\n",
    "\n",
    "    dataprocess = {'Types ':types,'Recall@20':xlen,'NDCG@20':ylen,}\n",
    "    df = pd.DataFrame(dataprocess)\n",
    "    print(df)\n",
    "    df\n",
    " "
   ]
  },
  {
   "cell_type": "code",
   "execution_count": 50,
   "id": "c29c79fa",
   "metadata": {},
   "outputs": [
    {
     "data": {
      "image/png": "[encoded data removed]",
      "text/plain": [
       "<Figure size 800x600 with 1 Axes>"
      ]
     },
     "metadata": {},
     "output_type": "display_data"
    },
    {
     "data": {
      "image/png": "[encoded data removed]",
      "text/plain": [
       "<Figure size 800x600 with 1 Axes>"
      ]
     },
     "metadata": {},
     "output_type": "display_data"
    },
    {
     "ename": "NameError",
     "evalue": "name 'types' is not defined",
     "output_type": "error",
     "traceback": [
      "\u001b[1;31m---------------------------------------------------------------------------\u001b[0m",
      "\u001b[1;31mNameError\u001b[0m                                 Traceback (most recent call last)",
      "Cell \u001b[1;32mIn [50], line 2\u001b[0m\n\u001b[0;32m      1\u001b[0m \u001b[38;5;28;01mif\u001b[39;00m \u001b[38;5;18m__name__\u001b[39m\u001b[38;5;241m==\u001b[39m\u001b[38;5;124m\"\u001b[39m\u001b[38;5;124m__main__\u001b[39m\u001b[38;5;124m\"\u001b[39m:\n\u001b[1;32m----> 2\u001b[0m     \u001b[43mmain\u001b[49m\u001b[43m(\u001b[49m\u001b[43m)\u001b[49m\n",
      "Cell \u001b[1;32mIn [49], line 105\u001b[0m, in \u001b[0;36mmain\u001b[1;34m()\u001b[0m\n\u001b[0;32m    102\u001b[0m xlen\u001b[38;5;241m=\u001b[39m[X[\u001b[38;5;241m0\u001b[39m],X[\u001b[38;5;241m1\u001b[39m],X[\u001b[38;5;241m2\u001b[39m],X[\u001b[38;5;241m3\u001b[39m]]\n\u001b[0;32m    103\u001b[0m ylen\u001b[38;5;241m=\u001b[39m[Y[\u001b[38;5;241m0\u001b[39m],Y[\u001b[38;5;241m1\u001b[39m],Y[\u001b[38;5;241m2\u001b[39m],Y[\u001b[38;5;241m3\u001b[39m]]\n\u001b[1;32m--> 105\u001b[0m dataprocess \u001b[38;5;241m=\u001b[39m {\u001b[38;5;124m'\u001b[39m\u001b[38;5;124mTypes \u001b[39m\u001b[38;5;124m'\u001b[39m:\u001b[43mtypes\u001b[49m,\u001b[38;5;124m'\u001b[39m\u001b[38;5;124mRecall@20\u001b[39m\u001b[38;5;124m'\u001b[39m:xlen,\u001b[38;5;124m'\u001b[39m\u001b[38;5;124mNDCG@20\u001b[39m\u001b[38;5;124m'\u001b[39m:ylen,}\n\u001b[0;32m    106\u001b[0m df \u001b[38;5;241m=\u001b[39m pd\u001b[38;5;241m.\u001b[39mDataFrame(dataprocess)\n\u001b[0;32m    107\u001b[0m \u001b[38;5;28mprint\u001b[39m(df)\n",
      "\u001b[1;31mNameError\u001b[0m: name 'types' is not defined"
     ]
    }
   ],
   "source": [
    "if __name__==\"__main__\":\n",
    "    main()"
   ]
  },
  {
   "cell_type": "code",
   "execution_count": 143,
   "id": "dd6b3385",
   "metadata": {},
   "outputs": [
    {
     "name": "stderr",
     "output_type": "stream",
     "text": [
      "C:\\Users\\Hp\\AppData\\Local\\Temp\\ipykernel_16072\\4184420636.py:5: SettingWithCopyWarning: \n",
      "A value is trying to be set on a copy of a slice from a DataFrame\n",
      "\n",
      "See the caveats in the documentation: https://pandas.pydata.org/pandas-docs/stable/user_guide/indexing.html#returning-a-view-versus-a-copy\n",
      "  dataf['Species'][i] = 1\n",
      "C:\\Users\\Hp\\AppData\\Local\\Temp\\ipykernel_16072\\4184420636.py:7: SettingWithCopyWarning: \n",
      "A value is trying to be set on a copy of a slice from a DataFrame\n",
      "\n",
      "See the caveats in the documentation: https://pandas.pydata.org/pandas-docs/stable/user_guide/indexing.html#returning-a-view-versus-a-copy\n",
      "  dataf['Species'][i] = 0\n"
     ]
    }
   ],
   "source": [
    "\n",
    "dataf = pd.DataFrame(data['data'])\n",
    "dataf['Species'] = pd.DataFrame(data['target'])\n",
    "for i in range(len(dataf['Species'])):\n",
    "    if dataf['Species'][i] == 0:\n",
    "        dataf['Species'][i] = 1\n",
    "    else:\n",
    "        dataf['Species'][i] = 0"
   ]
  },
  {
   "cell_type": "code",
   "execution_count": 144,
   "id": "17ac1b47",
   "metadata": {},
   "outputs": [
    {
     "name": "stderr",
     "output_type": "stream",
     "text": [
      "C:\\Users\\Hp\\AppData\\Local\\Temp\\ipykernel_16072\\1984125600.py:5: SettingWithCopyWarning: \n",
      "A value is trying to be set on a copy of a slice from a DataFrame\n",
      "\n",
      "See the caveats in the documentation: https://pandas.pydata.org/pandas-docs/stable/user_guide/indexing.html#returning-a-view-versus-a-copy\n",
      "  dataf['Species'][i] = 0\n",
      "C:\\Users\\Hp\\AppData\\Local\\Temp\\ipykernel_16072\\1984125600.py:3: SettingWithCopyWarning: \n",
      "A value is trying to be set on a copy of a slice from a DataFrame\n",
      "\n",
      "See the caveats in the documentation: https://pandas.pydata.org/pandas-docs/stable/user_guide/indexing.html#returning-a-view-versus-a-copy\n",
      "  dataf['Species'][i] = 1\n"
     ]
    }
   ],
   "source": [
    "for i in range(len(dataf['Species'])):\n",
    "    if dataf['Species'][i] == 0:\n",
    "        dataf['Species'][i] = 1\n",
    "    else:\n",
    "        dataf['Species'][i] = 0\n",
    "from sklearn.model_selection import train_test_split\n",
    "data_feature = dataf.drop(columns = 'Species')\n",
    "data_class = dataf['Species']\n",
    "x_train, x_test, y_train, y_test = train_test_split(\n",
    "    data_feature, data_class, \n",
    "    test_size = 0.2,\n",
    "    random_state = 10\n",
    ")\n",
    "x_train['Species'] = y_train\n",
    "df = x_train"
   ]
  },
  {
   "cell_type": "code",
   "execution_count": 145,
   "id": "53fe3612",
   "metadata": {},
   "outputs": [],
   "source": [
    "def stratified_spl(df):\n",
    "    df1 = df[df['Species'] == 1]\n",
    "    df0 = df[df['Species'] == 0]\n",
    "    df1_spl = df1.sample(n=4)\n",
    "    df0_spl = df0.sample(n=8)\n",
    "    return pd.concat([df1_spl, df0_spl])"
   ]
  },
  {
   "cell_type": "code",
   "execution_count": 146,
   "id": "4f541616",
   "metadata": {},
   "outputs": [],
   "source": [
    "def sigmoid(X, w):\n",
    "    z = np.dot(w, X.T)\n",
    "    return 1/(1+np.exp(-(z)))"
   ]
  },
  {
   "cell_type": "code",
   "execution_count": 147,
   "id": "913afc77",
   "metadata": {},
   "outputs": [],
   "source": [
    "def sep(df):\n",
    "    df_features = df.drop(columns = 'Species')\n",
    "    df_label = df['Species']\n",
    "    df_features['00'] = [1]*12\n",
    "    return df_features, df_label"
   ]
  },
  {
   "cell_type": "code",
   "execution_count": 148,
   "id": "8b0b979d",
   "metadata": {},
   "outputs": [],
   "source": [
    "def SME(X, y, w):\n",
    "    n = len(X)\n",
    "    yp = sigmoid(X, w)\n",
    "    return np.sum((yp-y)**2)/n"
   ]
  },
  {
   "cell_type": "code",
   "execution_count": 149,
   "id": "aa0c749d",
   "metadata": {},
   "outputs": [],
   "source": [
    "def grad_des(df, w, alpha, epoch):\n",
    "    j = []\n",
    "    w1 = []\n",
    "    w1.append(w)\n",
    "    for i in range(epoch):\n",
    "        d = stratified_spl(df)\n",
    "        X, y = sep(d)\n",
    "        n= len(X)\n",
    "        yp = sigmoid(X, w)\n",
    "        \n",
    "        for i in range(4):\n",
    "            w[i] -= (alpha/n) * np.sum(-2*X[i]*(y-yp))\n",
    "        w[4] -= (alpha/n) *np.sum(-2*(y-yp))\n",
    "        w1.append(list(w))\n",
    "        j.append(SME(X, y, w))\n",
    "    return j, w1\n",
    "w = np.random.rand(5)\n",
    "j, w1 = grad_des(x_train, w, 0.01, 100)"
   ]
  },
  {
   "cell_type": "code",
   "execution_count": null,
   "id": "da60f861",
   "metadata": {},
   "outputs": [],
   "source": []
  }
 ],
 "metadata": {
  "kernelspec": {
   "display_name": "Python 3 (ipykernel)",
   "language": "python",
   "name": "python3"
  },
  "language_info": {
   "codemirror_mode": {
    "name": "ipython",
    "version": 3
   },
   "file_extension": ".py",
   "mimetype": "text/x-python",
   "name": "python",
   "nbconvert_exporter": "python",
   "pygments_lexer": "ipython3",
   "version": "3.10.6"
  }
 },
 "nbformat": 4,
 "nbformat_minor": 5
}
